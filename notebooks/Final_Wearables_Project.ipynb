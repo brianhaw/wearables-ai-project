{
 "cells": [
  {
   "cell_type": "markdown",
   "id": "feeedb1e",
   "metadata": {},
   "source": [
    "# Wearables AI — End-to-End Demo\n",
    "\n",
    "Click **Runtime → Run all**. The notebook will use `data/WISDM_preprocessed.csv` if present, or generate synthetic data so it runs end-to-end.\n"
   ]
  },
  {
   "cell_type": "code",
   "execution_count": null,
   "id": "930d2d71",
   "metadata": {},
   "outputs": [],
   "source": [
    "# Install deps (Colab/non-venv friendly). This is a no-op locally if already installed.\n",
    "!pip -q install pandas numpy scikit-learn matplotlib shap"
   ]
  },
  {
   "cell_type": "code",
   "execution_count": null,
   "id": "4158047a",
   "metadata": {},
   "outputs": [],
   "source": [
    "import os, numpy as np, pandas as pd, matplotlib.pyplot as plt\n",
    "from sklearn.model_selection import train_test_split\n",
    "from sklearn.ensemble import RandomForestClassifier\n",
    "from sklearn.preprocessing import LabelEncoder\n",
    "from sklearn.metrics import classification_report, confusion_matrix\n",
    "\n",
    "# Load dataset if available; otherwise make synthetic so the demo always runs.\n",
    "path = 'data/WISDM_preprocessed.csv'\n",
    "if os.path.exists(path):\n",
    "    df = pd.read_csv(path)\n",
    "else:\n",
    "    rng = np.random.default_rng(0)\n",
    "    X = pd.DataFrame({\n",
    "        'x_mean': rng.normal(size=800),\n",
    "        'y_mean': rng.normal(size=800),\n",
    "        'z_mean': rng.normal(size=800),\n",
    "        'x_std':  rng.normal(size=800),\n",
    "        'y_std':  rng.normal(size=800),\n",
    "        'z_std':  rng.normal(size=800),\n",
    "    })\n",
    "    y = pd.Series(rng.choice(['Walking','Jogging','Standing'], size=800, p=[0.45,0.35,0.20]), name='activity')\n",
    "    df = pd.concat([X, y], axis=1)\n",
    "\n",
    "X = df.drop(columns=['activity'])\n",
    "y = LabelEncoder().fit_transform(df['activity'])\n",
    "\n",
    "X_train, X_test, y_train, y_test = train_test_split(X, y, test_size=0.2, random_state=42, stratify=y)\n",
    "clf = RandomForestClassifier(n_estimators=100, random_state=42).fit(X_train, y_train)\n",
    "y_pred = clf.predict(X_test)\n",
    "\n",
    "print(classification_report(y_test, y_pred))\n",
    "\n",
    "cm = confusion_matrix(y_test, y_pred)\n",
    "plt.figure()\n",
    "plt.imshow(cm)\n",
    "plt.title('Confusion Matrix')\n",
    "plt.colorbar()\n",
    "plt.show()"
   ]
  },
  {
   "cell_type": "code",
   "execution_count": null,
   "id": "80fd8d7e",
   "metadata": {},
   "outputs": [],
   "source": [
    "import shap, matplotlib.pyplot as plt\n",
    "explainer = shap.Explainer(clf, X_train)\n",
    "sv = explainer(X_test)\n",
    "shap.summary_plot(sv, X_test)"
   ]
  }
 ],
 "metadata": {
  "language_info": {
   "name": "python"
  }
 },
 "nbformat": 4,
 "nbformat_minor": 5
}
